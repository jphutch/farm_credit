{
 "cells": [
  {
   "cell_type": "markdown",
   "metadata": {},
   "source": [
    "# Census Data Preparation\n",
    "This notebook takes the raw .tsv file from ICPSR 35206 \"United States Agriculture Data, 1840 - 2012\" and transforms into the data used in the [data_cleaning.ipynb](./data_cleaning.ipynb) notebook.\n",
    "\n",
    "The \"year.txt\" files have the variables that we want in the analysis; in each year, we grab only these variables from the .tsv files and save the subset to a .csv file.  Thus to add more variables to the dataset it creates we just add to those files."
   ]
  },
  {
   "cell_type": "code",
   "execution_count": 1,
   "metadata": {},
   "outputs": [],
   "source": [
    "import pandas as pd\n",
    "import numpy as np\n",
    "import zipfile as z\n",
    "import os\n",
    "import re\n",
    "import glob\n",
    "\n",
    "with open(\"data_dir.txt\") as f:\n",
    "    data_dir = f.read()"
   ]
  },
  {
   "cell_type": "code",
   "execution_count": null,
   "metadata": {},
   "outputs": [],
   "source": [
    "files_dir = data_dir + \"agcensus/\"\n",
    "\n",
    "#os.chdir('../../../raw_data/agcensus/')\n",
    "filelist = {\"1920.txt\":\"1920.tsv\",\"1925.txt\":\"1925.tsv\",\n",
    "            \"1930_01.txt\":\"1930_01.tsv\",\"1930_02.txt\":\"1930_02.tsv\",\n",
    "            \"1935.txt\":\"1935.tsv\",\"1940_01.txt\":\"1940_01.tsv\", \n",
    "            \"1940_02.txt\":\"1940_02.tsv\"}\n",
    "\n",
    "agcensus = pd.DataFrame()\n",
    "\n",
    "# For every file, we are going to read and only keep the columns specified.\n",
    "for v,d in filelist.items():\n",
    "    print('reading ' + v + ' and ' + d)\n",
    "    var = pd.read_csv(files_dir+ v, header =None)\n",
    "    data = pd.read_table(files_dir+d)\n",
    "    for i in list(data.columns.values):\n",
    "        if i.upper() in list(var.iloc[:,0]):\n",
    "            row = var.loc[var.iloc[:,0] == i.upper()].index.tolist()[0]\n",
    "            name = var.iloc[row,2].strip()\n",
    "            data = data.rename(columns = {i:name})\n",
    "        else:    \n",
    "            data = data.drop(i, axis=1)\n",
    "    data['year'] = float(re.split('[_|.]',v)[0])\n",
    "    title=v.split('.')[0] + '.csv'\n",
    "    data.to_csv(files_dir+ v.split('.')[0] + '.csv', index=False)\n",
    "    print(\"Wrote %s to %s\" %(v,title))\n",
    "    #os.rename(\"./\"+d, \"./original/\"+d)\n",
    "print(\"Done writing\")\n",
    "\n",
    "csvlist = [i.replace('t','c') for i in list(filelist.values())]\n",
    "csvlist = [i.replace('1930_*','1930.') for i in csvlist]    "
   ]
  },
  {
   "cell_type": "code",
   "execution_count": null,
   "metadata": {
    "scrolled": true
   },
   "outputs": [],
   "source": [
    "# Merge 1930 and 1940 datasets together\n",
    "\n",
    "s1940_01 = pd.read_csv(files_dir+'1940_01.csv')\n",
    "s1940_02 = pd.read_csv(files_dir+'1940_02.csv')\n",
    "s1940 = pd.merge(s1940_01,s1940_02)\n",
    "s1940.to_csv(files_dir+'1940.csv', index=False)\n",
    "\n",
    "s1930_01 = pd.read_csv(files_dir+'1930_01.csv')\n",
    "s1930_02 = pd.read_csv(files_dir+'1930_02.csv')\n",
    "s1930 = pd.merge(s1930_01,s1930_02)\n",
    "s1930.to_csv(files_dir+'1930.csv', index=False)\n"
   ]
  },
  {
   "cell_type": "code",
   "execution_count": null,
   "metadata": {
    "scrolled": true
   },
   "outputs": [],
   "source": [
    "# Now merge all years together.\n",
    "\n",
    "csvlist = [files_dir+x+\".csv\" for x in [\"1920\",\"1925\",\"1930\",\"1935\",\"1940\"]]\n",
    "agsurvey = pd.DataFrame()\n",
    "for cv in csvlist:\n",
    "    data = pd.read_csv(cv)\n",
    "    data.set_index(['FIPS', 'year'], inplace=True)\n",
    "    agsurvey = agsurvey.append(data)\n",
    "agsurvey.sort_index().reset_index().to_csv(data_dir+'clean_data/agcensus_20-40.csv')"
   ]
  }
 ],
 "metadata": {
  "kernelspec": {
   "display_name": "Python 3",
   "language": "python",
   "name": "python3"
  },
  "language_info": {
   "codemirror_mode": {
    "name": "ipython",
    "version": 3
   },
   "file_extension": ".py",
   "mimetype": "text/x-python",
   "name": "python",
   "nbconvert_exporter": "python",
   "pygments_lexer": "ipython3",
   "version": "3.8.5"
  }
 },
 "nbformat": 4,
 "nbformat_minor": 2
}
